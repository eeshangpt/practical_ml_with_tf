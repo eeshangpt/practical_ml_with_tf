{
 "cells": [
  {
   "cell_type": "markdown",
   "metadata": {},
   "source": [
    "# Steps in Machine Learning Process."
   ]
  },
  {
   "cell_type": "markdown",
   "metadata": {},
   "source": [
    "## ML Process\n",
    "### 1. Data pre-processing:\n",
    "- Data comes from different sources and hence may be a little erroneous.\n",
    "- Inconsistencies and outliers are removed to get high quality data. \n",
    "- Using high quality data for training is key to get a successful ML algo.\n",
    "- Common steps in data pre-processing:\n",
    "    - Normalize the features and bring them in same scale:\n",
    "        - Z-Score: For a feature $X_j$ we calculate mean $\\mu_j$ and standard deviation $\\sigma_j$\n",
    "            $$X_{j_{new}} = \\frac{X_j - \\mu_j}{\\sigma_j}$$\n",
    "            New feature ranges roughly $\\in (-3, 3)$\n",
    "        - Find $min_j$ and $max_j$, then,\n",
    "            $$X_{j_{new}} = \\frac{X_j - min_j}{max_j - min_j}$$\n",
    "            New feature ranges roughly $\\in (0, 1)$\n",
    "        - Besides above stated normalization technques, *Log transformation*, and *Square-root transforation* are also used.\n",
    "^\n",
    "1. Visualize the data and explore it. Helps in crucial understanding of relation between feature and labels."
   ]
  },
  {
   "cell_type": "markdown",
   "metadata": {},
   "source": [
    "### 2. Model building.\n",
    "1. Simplest model in **Linear Regression**.\n",
    "    $$ y = b + w_1 x_1 + w_2 x_2 + ... + w_m x_m $$\n",
    "   where there are m-features, and $(b, w_1, w_2, ..., w_m)$ are parameters.\n",
    "   - Mapping between features and the label.\n",
    "   - Geometrically the model represents a hyperplane.\n",
    "2. **Logistic Regression**: Prediction of discrete quantities. \n",
    "    $$z = b + w_1 x_1 + w_2 x_2 + ... + w_m x_m$$\n",
    "    - $z$ will be a real number and we want a discrete quantity $\\in (0, 1)$, so we use logistic function.\n",
    "    - One of a logistic function is *sigmoid function*\n",
    "        $$\\sigma(z) = \\frac{1}{1 + e^{-z}}$$\n",
    "    - $\\sigma(z)$ lies $\\in (0, 1)$, which can easily be interpreted as probablity.\n",
    "    - Therefore, we can write $$ Pr(y^{(i)} = 1 | x^{(i)}) = \\sigma(z) = \\frac{1}{1 + e^{-z}}$$ where $$z = b + w_1 x_1 + w_2 x_2 + ... + w_m x_m$$\n",
    "    - Fine in case of linearly separable features. If classes are non-linearly separable, we move to polynomial features, which is cumbersome. \n",
    "3. **Neural Network**: Feed-forward Neural Network.\n",
    "    - Mechanism of constructing complex functions by considering simpler functions.\n",
    "    ```\n",
    "            h11\n",
    "    x1          h21\n",
    "            h12   h22     \n",
    "            h13   h23     o1\n",
    "    x2\n",
    "            h14\n",
    "    \n",
    "    i/p     hidden       o/p\n",
    "    ```\n",
    "    - We begin with 2 features but number of paraments increase with each connection. \n",
    "    ```\n",
    "    b  -----------+        +-------------+------------+\n",
    "                    |        | Linear      | Non-linear |\n",
    "    x1 -----------+------->| Combination | Activation |------> output\n",
    "                    |        |             |            |\n",
    "    x2 -----------+        +-------------+------------+\n",
    "    \n",
    "    ```\n",
    "    - Here $b$ is bias, $x_1$ and $x_2$ are features. Linear Combination is simply $$ z = b + w_1 x_1 + w_2 x_2 $$ and Non-linear activation is any non-linear function most commonly **Rectified Linear Unit (ReLU)** for hidden layers and **Sigmoid Function** for output unit.\n",
    "        $$ ReLU(z) = \n",
    "        \\begin{array}{cc}\n",
    "          \\{ & \n",
    "            \\begin{array}{cc}\n",
    "              z & z > 0 \\\\\n",
    "              0 & otherwise \\\\\n",
    "            \\end{array}\n",
    "        \\end{array}\n",
    "        $$\n",
    "    - Non-linear actiations are used to find non-linear boundaries."
   ]
  }
 ],
 "metadata": {
  "kernelspec": {
   "display_name": "Python 3",
   "language": "python",
   "name": "python3"
  },
  "language_info": {
   "codemirror_mode": {
    "name": "ipython",
    "version": 3
   },
   "file_extension": ".py",
   "mimetype": "text/x-python",
   "name": "python",
   "nbconvert_exporter": "python",
   "pygments_lexer": "ipython3",
   "version": "3.8.5"
  }
 },
 "nbformat": 4,
 "nbformat_minor": 4
}
