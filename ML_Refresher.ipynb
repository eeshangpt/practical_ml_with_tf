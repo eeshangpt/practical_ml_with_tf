{
 "cells": [
  {
   "cell_type": "markdown",
   "metadata": {},
   "source": [
    "# Machine Learning Refresher."
   ]
  },
  {
   "cell_type": "markdown",
   "metadata": {},
   "source": [
    "## ML from programming perspective.\n",
    "\n",
    "**Problem 1**: Program to add 2 numbers (\"a\" and \"b\")  \n",
    "    ```\n",
    "    func f(a, b)\n",
    "        return a + b\n",
    "    ```\n",
    "\n",
    "**Problem 2**: Recognizing hand written digits  \n",
    "Can a prg be written as we have written as we have for the above problem.  \n",
    "We can start by thinking of rules that can be stated for each digit, but are they scalable?? For eg., what if the orientation of the digit changes? Then the rules cannot cater to all the situation."
   ]
  },
  {
   "cell_type": "markdown",
   "metadata": {},
   "source": [
    "#### Analysis of problems and their solutions. \n",
    "It is difficult to write step wise solution to P2. In case of P1 we know the formula and the output is based on formula only.  \n",
    "We can recognize the digits using our vision, because we are learning to read these digit as soon as we start our formal education. Also we have seen these digits written by many different people, so we have knowledge of different styles and orientations.  "
   ]
  },
  {
   "cell_type": "markdown",
   "metadata": {},
   "source": [
    "*Question* that the ML tries to explore is that can mimic the training that we provided to our brain, to train a computer ?\n",
    "\n",
    "**Traditional Programming World**\n",
    "```\n",
    "            +---------+\n",
    "Data ------>|         |\n",
    "            |         |\n",
    "            | Program |-------> Output\n",
    "            |         |\n",
    "Rules ----->|         |\n",
    "            +---------+\n",
    "```\n",
    "\n",
    "**Typical ML Operation**  \n",
    "In this case we images of handwritten digits with their labels (i.e. number of the digit)\n",
    "```\n",
    "            +----------+\n",
    "Data ------>|          |\n",
    "            |          |\n",
    "            |    ML    |-------> Rules / Patterns / Models\n",
    "            |          |\n",
    "Output ---->|          |\n",
    "            +----------+\n",
    "```\n",
    "> **Key Difference**: In traditional programming paradigm the rules are part of the input, but in ML paradigm the rules are the output.  "
   ]
  },
  {
   "cell_type": "markdown",
   "metadata": {},
   "source": [
    "**Final ML Procedure**\n",
    "```\n",
    "Data             Labels / Outputs\n",
    "----             ----------------\n",
    " |                      |\n",
    " |    +------------+    |\n",
    " +--->| ML Trainer |<---+\n",
    "      +------------+\n",
    "            |\n",
    "            |\n",
    "            |\n",
    "        +-------+    \n",
    "New --->| Model |-----> Output\n",
    "Data    +-------+\n",
    "```\n",
    "\n",
    "The process is 2 staged:\n",
    "1. Training Phase: Where \"model\" is learned.\n",
    "2. Inference / Prediction Phase: Similar to traditional programming paradigm."
   ]
  },
  {
   "cell_type": "markdown",
   "metadata": {},
   "source": [
    "## Terminology\n",
    "1. Data:\n",
    "    > Data is the new oil.\n",
    "    - Data has to parts:\n",
    "        - Feature\n",
    "        - Label\n",
    "    - Examples: Handwriiten images. $i^{th}$ image represented as $X^{(i)}$. *Image* is the feature and *digits 0-9* are the label  \n",
    "    $D = \\{ X^{(1)}, X^{(2)}, ... , X^{(n)}\\}$ \n",
    "    - Example: House price predition. Features are house feature, label is price.\n",
    "        - Feature of a house can be number of bedrooms, area in sq. ft., distance from school etc. \n",
    "        - $j^{th}$ feature for the $i^{th}$ data point is represented as $X^{(i)}_{j}$\n",
    "    - So any data point is represented as $X^{(i)} : X^{(i)}_1, X^{(i)}_2, ..., X^{(i)}_m$ and label for this data point is represented as $y^{(i)}$\n",
    "    - Data $D = \\{(X^{(i)}, y^{(i)})\\}_{i=1}^n$\n",
    "2. Label: Based on label the type of algorithm/technique is defined.\n",
    "    - If the label is absent, then the algorithm is Unsupervised Learning.\n",
    "        - Eg: Cluster students based on attribute and many more \n",
    "    - If the label is present, then the algorithm is Supervised Learning. \n",
    "        - Eg: Handwitten digit recognization, Housing price prediction, and many more.\n",
    "        - **Discrete Labels**: Classification problem. \n",
    "        - **Continuous Labels**: Regression Problem.\n",
    "3. Feautes: Different type of features:\n",
    "    - Numeric: eg. # of bedroom, area etc.\n",
    "    - Categorical: eg. city names, colour names. These have to be converted to numbers, using *One-hot Encoding*.\n",
    "    - **One-Hot Encoding** Example:  \n",
    "    `City = {\"Mumbai\", \"Delhi\", \"Chennai\"}`\n",
    "    | Feat | F_Mumbai | F_Delhi | F_Chennai |\n",
    "    | --- | --- | --- | --- |\n",
    "    | Mumbai | 1 | 0 | 0 |\n",
    "    | Delhi | 0 | 1 | 0 |\n",
    "    | Chennai | 0 | 0 | 1 |"
   ]
  }
 ],
 "metadata": {
  "kernelspec": {
   "display_name": "Python 3",
   "language": "python",
   "name": "python3"
  },
  "language_info": {
   "codemirror_mode": {
    "name": "ipython",
    "version": 3
   },
   "file_extension": ".py",
   "mimetype": "text/x-python",
   "name": "python",
   "nbconvert_exporter": "python",
   "pygments_lexer": "ipython3",
   "version": "3.8.5"
  }
 },
 "nbformat": 4,
 "nbformat_minor": 4
}
